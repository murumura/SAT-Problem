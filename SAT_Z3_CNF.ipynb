{
 "cells": [
  {
   "cell_type": "code",
   "execution_count": 1,
   "id": "0d6d2c97",
   "metadata": {},
   "outputs": [],
   "source": [
    "try:\n",
    "  import google.colab\n",
    "  IN_COLAB = True\n",
    "except:\n",
    "  IN_COLAB = False\n",
    "if IN_COLAB:\n",
    "  # @title Mount Google Drive\n",
    "  # @markdown Mount Google Drive onto `/content/gdrive`. You can skip this if running locally.\n",
    "  from google.colab import drive\n",
    "  drive.mount('/content/gdrive', force_remount=True)\n",
    "  # @markdown Then insert the directory to your python path, you might want to change the path accroding to your need.\n",
    "  import sys\n",
    "  import os\n",
    "  sys.path.insert(0, '/content/gdrive/MyDrive/SAT-Problem')\n",
    "  print(sys.path)\n",
    "  # @markdown Change the following path accrodingly.\n",
    "  %cd /content/gdrive/MyDrive/SAT-Problem\n",
    "  # @markdown Install requirement packages.\n",
    "  !pip install -r requirements.txt"
   ]
  },
  {
   "cell_type": "code",
   "execution_count": 2,
   "id": "bf266309",
   "metadata": {},
   "outputs": [],
   "source": [
    "import os\n",
    "from internal import utils"
   ]
  },
  {
   "cell_type": "code",
   "execution_count": 3,
   "id": "471efe91",
   "metadata": {},
   "outputs": [],
   "source": [
    "# Modify the variables accordingly here! ####\n",
    "problem_file = \"test.dimacs\" # file name for problem description\n",
    "data_dir = \"./datasets\"       # folder that contains problem file"
   ]
  },
  {
   "cell_type": "code",
   "execution_count": 4,
   "id": "0ac030e8",
   "metadata": {},
   "outputs": [],
   "source": [
    "# experiment flag for checkpoint category\n",
    "experiment = \"CNF\"           \n",
    "# checkpoint path that store ouptut result/ configuration backup\n",
    "ckpt_path = os.path.join(os.getcwd(), \"checkpoint\", \"sat\", \"z3\")\n",
    "# full path of specified data file\n",
    "data_path = os.path.join(os.getcwd(), data_dir, problem_file)"
   ]
  },
  {
   "cell_type": "code",
   "execution_count": 5,
   "id": "3cca41bd",
   "metadata": {},
   "outputs": [
    {
     "name": "stdout",
     "output_type": "stream",
     "text": [
      "p cnf 3 5\n",
      "-1 -2 -3 0\n",
      "1 -2 3 0\n",
      "1 2 -3 0\n",
      "1 -2 -3 0\n",
      "-1 2 3 0\n"
     ]
    }
   ],
   "source": [
    "# Check input data file exist\n",
    "if not utils.file_exists(data_path):\n",
    "  raise ValueError(f\"Specified input data file do not exist: {data_path}\")\n",
    "# Check out specific input problem file as expected\n",
    "with open(data_path, 'r') as f:\n",
    "    data_file = f.read()\n",
    "print(data_file)"
   ]
  },
  {
   "cell_type": "code",
   "execution_count": 6,
   "id": "5ba61994",
   "metadata": {},
   "outputs": [
    {
     "name": "stdout",
     "output_type": "stream",
     "text": [
      "Solution of cnf problem:\r\n",
      "[x_2 = False, x_0 = False, x_1 = False]\r\n"
     ]
    }
   ],
   "source": [
    "os.environ['CKPT_DIR']         = ckpt_path\n",
    "os.environ['DATA_FILE']        = data_path                           # full path of specified data file\n",
    "os.environ['SOLVER_TYPE']      = \"z3\"                                # adopt z3-solver for backend problem solving\n",
    "os.environ['PUZZLE_TYPE']      = \"cnf\"                               # only cnf | sudoku | latin_square are supported\n",
    "os.environ['PROB_TYPE']        = \"sat\"                               # solving technology\n",
    "os.environ['DATA_EXT']         = utils.get_extention(problem_file)   # file extension\n",
    "!python -m eval \\\n",
    "  --gin_bindings=\"Config.puzzle_type    = '${PUZZLE_TYPE}'\" \\\n",
    "  --gin_bindings=\"Config.data_ext       = '${DATA_EXT}'\" \\\n",
    "  --gin_bindings=\"Config.solver_type    = '${SOLVER_TYPE}'\" \\\n",
    "  --gin_bindings=\"Config.data_file      = '${DATA_FILE}'\" \\\n",
    "  --gin_bindings=\"Config.data_ext       = '${DATA_EXT}'\" \\\n",
    "  --gin_bindings=\"Config.checkpoint_dir = '${CKPT_DIR}'\""
   ]
  }
 ],
 "metadata": {
  "kernelspec": {
   "display_name": "Python 3",
   "language": "python",
   "name": "python3"
  },
  "language_info": {
   "codemirror_mode": {
    "name": "ipython",
    "version": 3
   },
   "file_extension": ".py",
   "mimetype": "text/x-python",
   "name": "python",
   "nbconvert_exporter": "python",
   "pygments_lexer": "ipython3",
   "version": "3.9.13 (main, May 24 2022, 21:13:51) \n[Clang 13.1.6 (clang-1316.0.21.2)]"
  },
  "vscode": {
   "interpreter": {
    "hash": "b0fa6594d8f4cbf19f97940f81e996739fb7646882a419484c72d19e05852a7e"
   }
  }
 },
 "nbformat": 4,
 "nbformat_minor": 5
}
