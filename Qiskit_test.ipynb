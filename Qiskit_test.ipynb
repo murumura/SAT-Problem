{
 "cells": [
  {
   "cell_type": "code",
   "execution_count": 1,
   "id": "0bb770f4",
   "metadata": {},
   "outputs": [],
   "source": [
    "import numpy as np\n",
    "from internal import utils\n",
    "from qiskit import Aer\n",
    "from qiskit.visualization import plot_histogram\n",
    "from qiskit.utils import QuantumInstance\n",
    "from qiskit.algorithms import Grover, AmplificationProblem\n",
    "from qiskit.circuit.library import PhaseOracle"
   ]
  },
  {
   "cell_type": "code",
   "execution_count": 2,
   "id": "08dc072f",
   "metadata": {},
   "outputs": [],
   "source": [
    "class Verifier():\n",
    "    \"\"\"Create an object that can be used to check whether\n",
    "    an assignment satisfies a DIMACS file.\n",
    "        Args:\n",
    "            dimacs_file (str): path to the DIMACS file\n",
    "    \"\"\"\n",
    "    def __init__(self, dimacs_file):\n",
    "        with open(dimacs_file, 'r') as f:\n",
    "            self.dimacs = f.read()\n",
    "\n",
    "    def is_correct(self, guess):\n",
    "        \"\"\"Verifies a SAT solution against this object's\n",
    "        DIMACS file.\n",
    "            Args:\n",
    "                guess (str): Assignment to be verified.\n",
    "                             Must be string of 1s and 0s.\n",
    "            Returns:\n",
    "                bool: True if `guess` satisfies the\n",
    "                           problem. False otherwise.\n",
    "        \"\"\"\n",
    "        # Convert characters to bools & reverse\n",
    "        guess = [bool(int(x)) for x in guess][::-1]\n",
    "        for line in self.dimacs.split('\\n'):\n",
    "            line = line.strip(' 0')\n",
    "            clause_eval = False\n",
    "            for literal in line.split(' '):\n",
    "                if literal in ['p', 'c']:\n",
    "                    # line is not a clause\n",
    "                    clause_eval = True\n",
    "                    break\n",
    "                if '-' in literal:\n",
    "                    literal = literal.strip('-')\n",
    "                    lit_eval = not guess[int(literal)-1]\n",
    "                else:\n",
    "                    lit_eval = guess[int(literal)-1]\n",
    "                clause_eval |= lit_eval\n",
    "            if clause_eval is False:\n",
    "                return False\n",
    "        return True"
   ]
  },
  {
   "cell_type": "code",
   "execution_count": 3,
   "id": "cc7dd71f",
   "metadata": {},
   "outputs": [
    {
     "ename": "IndexError",
     "evalue": "list index out of range",
     "output_type": "error",
     "traceback": [
      "\u001b[0;31m---------------------------------------------------------------------------\u001b[0m",
      "\u001b[0;31mIndexError\u001b[0m                                Traceback (most recent call last)",
      "Cell \u001b[0;32mIn[3], line 2\u001b[0m\n\u001b[1;32m      1\u001b[0m v \u001b[38;5;241m=\u001b[39m utils\u001b[38;5;241m.\u001b[39mDimacsVerifier(\u001b[38;5;124m'\u001b[39m\u001b[38;5;124m./dataset/test4.dimacs\u001b[39m\u001b[38;5;124m'\u001b[39m)\n\u001b[0;32m----> 2\u001b[0m oracle \u001b[38;5;241m=\u001b[39m \u001b[43mPhaseOracle\u001b[49m\u001b[38;5;241;43m.\u001b[39;49m\u001b[43mfrom_dimacs_file\u001b[49m\u001b[43m(\u001b[49m\u001b[38;5;124;43m'\u001b[39;49m\u001b[38;5;124;43m./dataset/test4.dimacs\u001b[39;49m\u001b[38;5;124;43m'\u001b[39;49m\u001b[43m)\u001b[49m\n\u001b[1;32m      3\u001b[0m \u001b[38;5;66;03m# Configure backend\u001b[39;00m\n\u001b[1;32m      4\u001b[0m backend \u001b[38;5;241m=\u001b[39m Aer\u001b[38;5;241m.\u001b[39mget_backend(\u001b[38;5;124m'\u001b[39m\u001b[38;5;124maer_simulator\u001b[39m\u001b[38;5;124m'\u001b[39m)\n",
      "File \u001b[0;32m/usr/local/lib/python3.8/dist-packages/qiskit/circuit/library/phase_oracle.py:150\u001b[0m, in \u001b[0;36mPhaseOracle.from_dimacs_file\u001b[0;34m(cls, filename)\u001b[0m\n\u001b[1;32m    147\u001b[0m \u001b[38;5;28;01mfrom\u001b[39;00m \u001b[38;5;21;01mqiskit\u001b[39;00m\u001b[38;5;21;01m.\u001b[39;00m\u001b[38;5;21;01mcircuit\u001b[39;00m\u001b[38;5;21;01m.\u001b[39;00m\u001b[38;5;21;01mclassicalfunction\u001b[39;00m\u001b[38;5;21;01m.\u001b[39;00m\u001b[38;5;21;01mboolean_expression\u001b[39;00m \u001b[38;5;28;01mimport\u001b[39;00m BooleanExpression\n\u001b[1;32m    149\u001b[0m expr \u001b[38;5;241m=\u001b[39m BooleanExpression\u001b[38;5;241m.\u001b[39mfrom_dimacs_file(filename)\n\u001b[0;32m--> 150\u001b[0m \u001b[38;5;28;01mreturn\u001b[39;00m \u001b[38;5;28;43mcls\u001b[39;49m\u001b[43m(\u001b[49m\u001b[43mexpr\u001b[49m\u001b[43m)\u001b[49m\n",
      "File \u001b[0;32m/usr/local/lib/python3.8/dist-packages/qiskit/utils/classtools.py:117\u001b[0m, in \u001b[0;36m_WrappedMethod.__get__.<locals>.out\u001b[0;34m(*args, **kwargs)\u001b[0m\n\u001b[1;32m    115\u001b[0m \u001b[38;5;28;01mfor\u001b[39;00m callback \u001b[38;5;129;01min\u001b[39;00m \u001b[38;5;28mself\u001b[39m\u001b[38;5;241m.\u001b[39m_before:\n\u001b[1;32m    116\u001b[0m     callback\u001b[38;5;241m.\u001b[39m\u001b[38;5;21m__get__\u001b[39m(obj, objtype)(\u001b[38;5;241m*\u001b[39margs, \u001b[38;5;241m*\u001b[39m\u001b[38;5;241m*\u001b[39mkwargs)\n\u001b[0;32m--> 117\u001b[0m retval \u001b[38;5;241m=\u001b[39m \u001b[43mmethod\u001b[49m\u001b[43m(\u001b[49m\u001b[38;5;241;43m*\u001b[39;49m\u001b[43margs\u001b[49m\u001b[43m,\u001b[49m\u001b[43m \u001b[49m\u001b[38;5;241;43m*\u001b[39;49m\u001b[38;5;241;43m*\u001b[39;49m\u001b[43mkwargs\u001b[49m\u001b[43m)\u001b[49m\n\u001b[1;32m    118\u001b[0m \u001b[38;5;28;01mfor\u001b[39;00m callback \u001b[38;5;129;01min\u001b[39;00m \u001b[38;5;28mself\u001b[39m\u001b[38;5;241m.\u001b[39m_after:\n\u001b[1;32m    119\u001b[0m     callback\u001b[38;5;241m.\u001b[39m\u001b[38;5;21m__get__\u001b[39m(obj, objtype)(\u001b[38;5;241m*\u001b[39margs, \u001b[38;5;241m*\u001b[39m\u001b[38;5;241m*\u001b[39mkwargs)\n",
      "File \u001b[0;32m/usr/local/lib/python3.8/dist-packages/qiskit/circuit/library/phase_oracle.py:83\u001b[0m, in \u001b[0;36mPhaseOracle.__init__\u001b[0;34m(self, expression, synthesizer)\u001b[0m\n\u001b[1;32m     80\u001b[0m         tweedledum_circuit \u001b[38;5;241m=\u001b[39m pkrm_synth(truth_table, {\u001b[38;5;124m\"\u001b[39m\u001b[38;5;124mpkrm_synth\u001b[39m\u001b[38;5;124m\"\u001b[39m: {\u001b[38;5;124m\"\u001b[39m\u001b[38;5;124mphase_esop\u001b[39m\u001b[38;5;124m\"\u001b[39m: \u001b[38;5;28;01mTrue\u001b[39;00m}})\n\u001b[1;32m     81\u001b[0m         \u001b[38;5;28;01mreturn\u001b[39;00m tweedledum2qiskit(tweedledum_circuit)\n\u001b[0;32m---> 83\u001b[0m oracle \u001b[38;5;241m=\u001b[39m \u001b[43mexpression\u001b[49m\u001b[38;5;241;43m.\u001b[39;49m\u001b[43msynth\u001b[49m\u001b[43m(\u001b[49m\u001b[43msynthesizer\u001b[49m\u001b[38;5;241;43m=\u001b[39;49m\u001b[43msynthesizer\u001b[49m\u001b[43m)\u001b[49m\n\u001b[1;32m     85\u001b[0m \u001b[38;5;28msuper\u001b[39m()\u001b[38;5;241m.\u001b[39m\u001b[38;5;21m__init__\u001b[39m(oracle\u001b[38;5;241m.\u001b[39mnum_qubits, name\u001b[38;5;241m=\u001b[39m\u001b[38;5;124m\"\u001b[39m\u001b[38;5;124mPhase Oracle\u001b[39m\u001b[38;5;124m\"\u001b[39m)\n\u001b[1;32m     87\u001b[0m \u001b[38;5;28mself\u001b[39m\u001b[38;5;241m.\u001b[39mcompose(oracle, inplace\u001b[38;5;241m=\u001b[39m\u001b[38;5;28;01mTrue\u001b[39;00m)\n",
      "File \u001b[0;32m/usr/local/lib/python3.8/dist-packages/qiskit/circuit/classicalfunction/boolean_expression.py:87\u001b[0m, in \u001b[0;36mBooleanExpression.synth\u001b[0;34m(self, registerless, synthesizer)\u001b[0m\n\u001b[1;32m     85\u001b[0m     truth_table \u001b[38;5;241m=\u001b[39m \u001b[38;5;28mself\u001b[39m\u001b[38;5;241m.\u001b[39m_tweedledum_bool_expression\u001b[38;5;241m.\u001b[39mtruth_table(output_bit\u001b[38;5;241m=\u001b[39m\u001b[38;5;241m0\u001b[39m)\n\u001b[1;32m     86\u001b[0m     \u001b[38;5;28;01mreturn\u001b[39;00m tweedledum2qiskit(pkrm_synth(truth_table), name\u001b[38;5;241m=\u001b[39m\u001b[38;5;28mself\u001b[39m\u001b[38;5;241m.\u001b[39mname, qregs\u001b[38;5;241m=\u001b[39mqregs)\n\u001b[0;32m---> 87\u001b[0m \u001b[38;5;28;01mreturn\u001b[39;00m \u001b[43msynthesizer\u001b[49m\u001b[43m(\u001b[49m\u001b[38;5;28;43mself\u001b[39;49m\u001b[43m)\u001b[49m\n",
      "File \u001b[0;32m/usr/local/lib/python3.8/dist-packages/qiskit/circuit/library/phase_oracle.py:77\u001b[0m, in \u001b[0;36mPhaseOracle.__init__.<locals>.synthesizer\u001b[0;34m(boolean_expression)\u001b[0m\n\u001b[1;32m     74\u001b[0m \u001b[38;5;28;01mfrom\u001b[39;00m \u001b[38;5;21;01mtweedledum\u001b[39;00m\u001b[38;5;21;01m.\u001b[39;00m\u001b[38;5;21;01msynthesis\u001b[39;00m \u001b[38;5;28;01mimport\u001b[39;00m pkrm_synth\n\u001b[1;32m     75\u001b[0m \u001b[38;5;28;01mfrom\u001b[39;00m \u001b[38;5;21;01mqiskit\u001b[39;00m\u001b[38;5;21;01m.\u001b[39;00m\u001b[38;5;21;01mcircuit\u001b[39;00m\u001b[38;5;21;01m.\u001b[39;00m\u001b[38;5;21;01mclassicalfunction\u001b[39;00m\u001b[38;5;21;01m.\u001b[39;00m\u001b[38;5;21;01mutils\u001b[39;00m \u001b[38;5;28;01mimport\u001b[39;00m tweedledum2qiskit\n\u001b[0;32m---> 77\u001b[0m truth_table \u001b[38;5;241m=\u001b[39m \u001b[43mboolean_expression\u001b[49m\u001b[38;5;241;43m.\u001b[39;49m\u001b[43m_tweedledum_bool_expression\u001b[49m\u001b[38;5;241;43m.\u001b[39;49m\u001b[43mtruth_table\u001b[49m\u001b[43m(\u001b[49m\n\u001b[1;32m     78\u001b[0m \u001b[43m    \u001b[49m\u001b[43moutput_bit\u001b[49m\u001b[38;5;241;43m=\u001b[39;49m\u001b[38;5;241;43m0\u001b[39;49m\n\u001b[1;32m     79\u001b[0m \u001b[43m\u001b[49m\u001b[43m)\u001b[49m\n\u001b[1;32m     80\u001b[0m tweedledum_circuit \u001b[38;5;241m=\u001b[39m pkrm_synth(truth_table, {\u001b[38;5;124m\"\u001b[39m\u001b[38;5;124mpkrm_synth\u001b[39m\u001b[38;5;124m\"\u001b[39m: {\u001b[38;5;124m\"\u001b[39m\u001b[38;5;124mphase_esop\u001b[39m\u001b[38;5;124m\"\u001b[39m: \u001b[38;5;28;01mTrue\u001b[39;00m}})\n\u001b[1;32m     81\u001b[0m \u001b[38;5;28;01mreturn\u001b[39;00m tweedledum2qiskit(tweedledum_circuit)\n",
      "File \u001b[0;32m/usr/local/lib/python3.8/dist-packages/tweedledum/bool_function_compiler/bool_function.py:123\u001b[0m, in \u001b[0;36mBoolFunction.truth_table\u001b[0;34m(self, output_bit)\u001b[0m\n\u001b[1;32m    121\u001b[0m \u001b[38;5;28;01mif\u001b[39;00m \u001b[38;5;28mself\u001b[39m\u001b[38;5;241m.\u001b[39m_truth_table \u001b[38;5;241m==\u001b[39m \u001b[38;5;28;01mNone\u001b[39;00m:\n\u001b[1;32m    122\u001b[0m     \u001b[38;5;28mself\u001b[39m\u001b[38;5;241m.\u001b[39msimulate_all()\n\u001b[0;32m--> 123\u001b[0m \u001b[38;5;28;01mreturn\u001b[39;00m \u001b[38;5;28;43mself\u001b[39;49m\u001b[38;5;241;43m.\u001b[39;49m\u001b[43m_truth_table\u001b[49m\u001b[43m[\u001b[49m\u001b[43moutput_bit\u001b[49m\u001b[43m]\u001b[49m\n",
      "\u001b[0;31mIndexError\u001b[0m: list index out of range"
     ]
    }
   ],
   "source": [
    "v = utils.DimacsVerifier('./dataset/test4.dimacs')\n",
    "oracle = PhaseOracle.from_dimacs_file('./dataset/test4.dimacs')\n",
    "# Configure backend\n",
    "backend = Aer.get_backend('aer_simulator')\n",
    "quantum_instance = QuantumInstance(backend, shots=1024)\n",
    "\n",
    "# Create a new problem from the phase oracle and the\n",
    "# verification function\n",
    "problem = AmplificationProblem(oracle=oracle, is_good_state=v.is_correct)\n",
    "\n",
    "# Use Grover's algorithm to solve the problem\n",
    "grover = Grover(quantum_instance=quantum_instance)\n",
    "result = grover.amplify(problem)\n",
    "result.top_measurement"
   ]
  },
  {
   "cell_type": "code",
   "execution_count": null,
   "id": "97c18f07",
   "metadata": {},
   "outputs": [],
   "source": []
  }
 ],
 "metadata": {
  "kernelspec": {
   "display_name": "Python 3 (ipykernel)",
   "language": "python",
   "name": "python3"
  },
  "language_info": {
   "codemirror_mode": {
    "name": "ipython",
    "version": 3
   },
   "file_extension": ".py",
   "mimetype": "text/x-python",
   "name": "python",
   "nbconvert_exporter": "python",
   "pygments_lexer": "ipython3",
   "version": "3.8.10"
  }
 },
 "nbformat": 4,
 "nbformat_minor": 5
}
